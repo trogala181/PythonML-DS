{
  "nbformat": 4,
  "nbformat_minor": 0,
  "metadata": {
    "colab": {
      "provenance": [],
      "authorship_tag": "ABX9TyNdCxZRDc5qDtCvgoSJywBI",
      "include_colab_link": true
    },
    "kernelspec": {
      "name": "python3",
      "display_name": "Python 3"
    },
    "language_info": {
      "name": "python"
    }
  },
  "cells": [
    {
      "cell_type": "markdown",
      "metadata": {
        "id": "view-in-github",
        "colab_type": "text"
      },
      "source": [
        "<a href=\"https://colab.research.google.com/github/trogala181/PythonML-DS/blob/task5frfr/check_triangle.ipynb\" target=\"_parent\"><img src=\"https://colab.research.google.com/assets/colab-badge.svg\" alt=\"Open In Colab\"/></a>"
      ]
    },
    {
      "cell_type": "code",
      "execution_count": 35,
      "metadata": {
        "colab": {
          "base_uri": "https://localhost:8080/"
        },
        "id": "2rt9LpyB2Jvf",
        "outputId": "b371c783-53ef-4179-9614-817c993c442e"
      },
      "outputs": [
        {
          "output_type": "stream",
          "name": "stdout",
          "text": [
            "49\n"
          ]
        }
      ],
      "source": [
        "import random\n",
        "from check_triangle import check_triangle\n",
        "array1 =[]\n",
        "array2=[]\n",
        "array3=[]\n",
        "triangles = []\n",
        "i=0\n",
        "count = 0\n",
        "while i <100:\n",
        "  random1  =random.random()\n",
        "  array1.append(random1)\n",
        "  random2  =random.random()\n",
        "  array2.append(random2)\n",
        "  random3  =random.random()\n",
        "  array3.append(random3)\n",
        "\n",
        "  triangles.append(check_triangle(array1[i],array2[i],array3[i]))\n",
        "\n",
        "\n",
        "  if triangles[i] == True:\n",
        "    count += 1\n",
        "  i+=1\n",
        "\n",
        "print(count)\n",
        "\n",
        "\n"
      ]
    },
    {
      "cell_type": "code",
      "source": [
        "T"
      ],
      "metadata": {
        "id": "ARNVHfGk7Xm6"
      },
      "execution_count": null,
      "outputs": []
    }
  ]
}